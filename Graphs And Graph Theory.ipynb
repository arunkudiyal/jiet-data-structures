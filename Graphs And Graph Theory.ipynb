{
 "cells": [
  {
   "cell_type": "code",
   "execution_count": 7,
   "metadata": {},
   "outputs": [
    {
     "name": "stdout",
     "output_type": "stream",
     "text": [
      "A  :  ['B']\n",
      "B  :  ['A', 'C', 'D']\n",
      "C  :  ['B', 'E']\n",
      "E  :  ['C', 'D']\n",
      "D  :  ['E', 'B']\n"
     ]
    }
   ],
   "source": [
    "from collections import defaultdict\n",
    "\n",
    "class Graph:\n",
    "    def __init__(self, vertices, edges):\n",
    "        self.vertices = vertices\n",
    "        self.edges = edges\n",
    "        self.graph = defaultdict(list)\n",
    "        \n",
    "    def addEdge(self, vertex1, vertex2):\n",
    "        if len(self.graph) <= self.edges:\n",
    "            self.graph[vertex1].append(vertex2)\n",
    "            self.graph[vertex2].append(vertex1)\n",
    "        else:\n",
    "            print(\"Initial values of V and E exceeded, try adding more values to V & E\")\n",
    "            \n",
    "    def printGraph(self):\n",
    "        for i in self.graph:\n",
    "            print(i, \" : \", self.graph[i])\n",
    "            \n",
    "\n",
    "# DRIVER CODE\n",
    "graph = Graph(5, 5)\n",
    "graph.addEdge('A', 'B')\n",
    "graph.addEdge('B', 'C')\n",
    "graph.addEdge('C', 'E')\n",
    "graph.addEdge('E', 'D')\n",
    "graph.addEdge('D', 'B')\n",
    "\n",
    "graph.printGraph()"
   ]
  },
  {
   "cell_type": "code",
   "execution_count": 11,
   "metadata": {},
   "outputs": [
    {
     "name": "stdout",
     "output_type": "stream",
     "text": [
      "0 1 2 3 5 6 7 8 9 4 "
     ]
    }
   ],
   "source": [
    "# DFS -> Depth First Search\n",
    "from collections import defaultdict\n",
    "class Graph:\n",
    "    def __init__(self):\n",
    "        self.graph = defaultdict(list)\n",
    "        \n",
    "    def addEdge(self, u, v):\n",
    "        self.graph[u].append(v)\n",
    "        self.graph[v].append(u)\n",
    "        \n",
    "    def dfsTraversal(self, vertex, visited):\n",
    "        visited.add(vertex)\n",
    "        print(vertex, end = \" \")\n",
    "        \n",
    "        # check for neighbors\n",
    "        for neighbor in self.graph[vertex]:\n",
    "            if neighbor not in visited:\n",
    "                self.dfsTraversal(neighbor, visited)\n",
    "        \n",
    "    def DFS(self, source):\n",
    "        visited = set()\n",
    "        self.dfsTraversal(source, visited)\n",
    "        \n",
    "\n",
    "# DRIVER METHOD\n",
    "graph = Graph()\n",
    "graph.addEdge(0, 1)\n",
    "graph.addEdge(0, 2)\n",
    "graph.addEdge(1, 2)\n",
    "graph.addEdge(1, 3)\n",
    "graph.addEdge(1, 4)\n",
    "graph.addEdge(3, 5)\n",
    "graph.addEdge(5, 6)\n",
    "graph.addEdge(5, 7)\n",
    "graph.addEdge(5, 8)\n",
    "graph.addEdge(7, 8)\n",
    "graph.addEdge(8, 9)\n",
    "\n",
    "graph.DFS(0)"
   ]
  },
  {
   "cell_type": "code",
   "execution_count": 5,
   "metadata": {},
   "outputs": [
    {
     "name": "stdout",
     "output_type": "stream",
     "text": [
      "0 1 2 3 4 "
     ]
    }
   ],
   "source": [
    "from collections import defaultdict\n",
    "class Graph:\n",
    "    def __init__(self):\n",
    "        self.graph = defaultdict(list)\n",
    "        \n",
    "    def addEdge(self, u, v):\n",
    "        self.graph[u].append(v)\n",
    "        self.graph[v].append(u)\n",
    "        \n",
    "    def BFS(self, source):\n",
    "        visited = [False] * (max(self.graph)+1)\n",
    "        queue = []\n",
    "        \n",
    "        queue.append(source)\n",
    "        visited[source] = True\n",
    "        \n",
    "        while(queue):\n",
    "            \n",
    "            source = queue.pop(0)\n",
    "            print(source, end = \" \")\n",
    "            \n",
    "            for i in self.graph[source]:\n",
    "                if visited[i] == False:\n",
    "                    queue.append(i)\n",
    "                    visited[i] = True\n",
    "                    \n",
    "\n",
    "# Driver Code\n",
    "graph = Graph()\n",
    "graph.addEdge(0, 1)\n",
    "graph.addEdge(0, 2)\n",
    "graph.addEdge(0, 3)\n",
    "graph.addEdge(1, 3)\n",
    "graph.addEdge(2, 3)\n",
    "graph.addEdge(3, 4)\n",
    "\n",
    "graph.BFS(0)"
   ]
  },
  {
   "cell_type": "code",
   "execution_count": null,
   "metadata": {},
   "outputs": [],
   "source": []
  }
 ],
 "metadata": {
  "kernelspec": {
   "display_name": "Python 3",
   "language": "python",
   "name": "python3"
  },
  "language_info": {
   "codemirror_mode": {
    "name": "ipython",
    "version": 3
   },
   "file_extension": ".py",
   "mimetype": "text/x-python",
   "name": "python",
   "nbconvert_exporter": "python",
   "pygments_lexer": "ipython3",
   "version": "3.8.5"
  }
 },
 "nbformat": 4,
 "nbformat_minor": 2
}
