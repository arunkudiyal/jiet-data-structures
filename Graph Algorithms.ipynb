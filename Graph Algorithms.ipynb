{
 "cells": [
  {
   "cell_type": "code",
   "execution_count": 18,
   "metadata": {},
   "outputs": [
    {
     "name": "stdout",
     "output_type": "stream",
     "text": [
      "Edge\t\tWeight\n",
      "0 - 1 \t\t 4\n",
      "1 - 2 \t\t 2\n",
      "2 - 3 \t\t 3\n",
      "3 - 4 \t\t 5\n"
     ]
    }
   ],
   "source": [
    "# PRIM'S ALGORITHM\n",
    "\n",
    "import sys\n",
    "\n",
    "class Graph:\n",
    "    def __init__(self, vertices):\n",
    "        self.V = vertices\n",
    "        self.graph = [[0 for coloumn in range(vertices)] for row in range(vertices)]\n",
    "        \n",
    "    # find the vertex with minmum distance from the shortest key provided\n",
    "    def minValue(self, vertex, visited):\n",
    "        min = sys.maxsize\n",
    "        for u in range(self.V):\n",
    "            if(vertex[u] < min and visited[u] == False):\n",
    "                min = vertex[u]\n",
    "                min_index = u\n",
    "        return min_index\n",
    "                \n",
    "    def printMST(self, parent):\n",
    "        print(\"Edge\\t\\tWeight\")\n",
    "        for i in range(1, self.V):\n",
    "            print(parent[i], \"-\", i, \"\\t\\t\", self.graph[i][parent[i]])\n",
    "    \n",
    "    def primAlgorithm(self):\n",
    "        # Initial Conditions\n",
    "        vertex = [sys.maxsize] * self.V\n",
    "        parent = [None] * self.V\n",
    "        vertex[0] = 0\n",
    "        visited = [False] * self.V\n",
    "        parent[0] = -1\n",
    "        \n",
    "        for i in range(self.V):\n",
    "            u = self.minValue(vertex, visited)\n",
    "            visited[u] = True\n",
    "            \n",
    "            for v in range(self.V):\n",
    "                if self.graph[u][v] > 0 and visited[v] == False and vertex[v] > self.graph[u][v]:\n",
    "                    vertex[v] = self.graph[u][v]\n",
    "                    parent[v] = u\n",
    "                    \n",
    "        self. printMST(parent)\n",
    "                \n",
    "# DRIVER CODE\n",
    "graph = Graph(5)\n",
    "graph.graph = [ [0, 4, 8, 0, 0],\n",
    "                [4, 0, 2, 6, 0],\n",
    "                [8, 2, 0, 3, 9],\n",
    "                [0, 6, 3, 0, 5],\n",
    "                [0, 0, 9, 5, 0] ]\n",
    "\n",
    "graph.primAlgorithm()"
   ]
  },
  {
   "cell_type": "code",
   "execution_count": null,
   "metadata": {},
   "outputs": [],
   "source": []
  }
 ],
 "metadata": {
  "kernelspec": {
   "display_name": "Python 3",
   "language": "python",
   "name": "python3"
  },
  "language_info": {
   "codemirror_mode": {
    "name": "ipython",
    "version": 3
   },
   "file_extension": ".py",
   "mimetype": "text/x-python",
   "name": "python",
   "nbconvert_exporter": "python",
   "pygments_lexer": "ipython3",
   "version": "3.8.5"
  }
 },
 "nbformat": 4,
 "nbformat_minor": 2
}
