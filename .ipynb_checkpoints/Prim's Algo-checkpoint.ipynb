{
 "cells": [
  {
   "cell_type": "code",
   "execution_count": 4,
   "metadata": {},
   "outputs": [],
   "source": [
    "import sys"
   ]
  },
  {
   "cell_type": "code",
   "execution_count": 20,
   "metadata": {},
   "outputs": [
    {
     "name": "stdout",
     "output_type": "stream",
     "text": [
      "Edge \t Weight\n",
      "0 - 1 \t 4\n",
      "0 - 2 \t 8\n",
      "0 - 3 \t 0\n",
      "0 - 4 \t 0\n",
      "Edge \t Weight\n",
      "0 - 1 \t 4\n",
      "1 - 2 \t 2\n",
      "1 - 3 \t 6\n",
      "0 - 4 \t 0\n",
      "Edge \t Weight\n",
      "0 - 1 \t 4\n",
      "1 - 2 \t 2\n",
      "2 - 3 \t 3\n",
      "2 - 4 \t 9\n",
      "Edge \t Weight\n",
      "0 - 1 \t 4\n",
      "1 - 2 \t 2\n",
      "2 - 3 \t 3\n",
      "3 - 4 \t 5\n",
      "Edge \t Weight\n",
      "0 - 1 \t 4\n",
      "1 - 2 \t 2\n",
      "2 - 3 \t 3\n",
      "3 - 4 \t 5\n"
     ]
    }
   ],
   "source": [
    "class Graph:\n",
    "    def __init__(self, vertices):\n",
    "        self.V = vertices\n",
    "        self.graph = [[0 for coloumn in range(vertices)] for row in range(vertices)]\n",
    "    \n",
    "    # A utility function to print the constructed MST stored in parent[]\n",
    "    def printMST(self, parent):\n",
    "        print(\"Edge \\t Weight\")\n",
    "        for i in range(1, self.V):\n",
    "            print(parent[i], \"-\", i, \"\\t\", self.graph[i][ parent[i] ] )\n",
    "    \n",
    "    # A utility function to find the vertex with minimum distance value, from the set of verticesnot yet included in shortest path tree\n",
    "    def minKey(self, key, visited):\n",
    "        min = sys.maxsize\n",
    "        for v in range(self.V):\n",
    "            if(key[v] < min and visited[v] == False):\n",
    "                min = key[v]\n",
    "                min_index = v\n",
    "        return min_index\n",
    "    \n",
    "    # Function to construct and print MST for a graph represented using adjacency matrix\n",
    "    def primAlgorithm(self):\n",
    "        key = [sys.maxsize] * self.V\n",
    "        parent = [0] * self.V\n",
    "        key[0] = 0\n",
    "        visited = [False] * self.V\n",
    "        parent[0] = -1\n",
    "        \n",
    "        for i in range(self.V):\n",
    "            u = self.minKey(key, visited)\n",
    "            visited[u] = True\n",
    "            for v in range(self.V):\n",
    "                if self.graph[u][v] > 0 and visited[v] == False and key[v] > self.graph[u][v]:\n",
    "                    key[v] = self.graph[u][v]\n",
    "                    parent[v] = u\n",
    "            \n",
    "            self.printMST(parent)\n",
    "            \n",
    "\n",
    "# Driver Code\n",
    "g = Graph(5) \n",
    "g.graph = [ [0, 4, 8, 0, 0], \n",
    "            [4, 0, 2, 6, 0], \n",
    "            [8, 2, 0, 3, 9], \n",
    "            [0, 6, 3, 0, 5], \n",
    "            [0, 0, 9, 5, 0]] \n",
    "  \n",
    "g.primAlgorithm();"
   ]
  },
  {
   "cell_type": "code",
   "execution_count": null,
   "metadata": {},
   "outputs": [],
   "source": []
  }
 ],
 "metadata": {
  "kernelspec": {
   "display_name": "Python 3",
   "language": "python",
   "name": "python3"
  },
  "language_info": {
   "codemirror_mode": {
    "name": "ipython",
    "version": 3
   },
   "file_extension": ".py",
   "mimetype": "text/x-python",
   "name": "python",
   "nbconvert_exporter": "python",
   "pygments_lexer": "ipython3",
   "version": "3.8.5"
  }
 },
 "nbformat": 4,
 "nbformat_minor": 2
}
