{
 "cells": [
  {
   "cell_type": "code",
   "execution_count": 1,
   "metadata": {},
   "outputs": [
    {
     "name": "stdout",
     "output_type": "stream",
     "text": [
      "5\n",
      "13\n"
     ]
    }
   ],
   "source": [
    "def fibonacci(number):\n",
    "    # Base Case\n",
    "    if(number <= 2): return 1\n",
    "    else: return fibonacci(number-1) + fibonacci(number-2)\n",
    "    \n",
    "# Drive Code\n",
    "print(fibonacci(5))\n",
    "print(fibonacci(7))"
   ]
  },
  {
   "cell_type": "code",
   "execution_count": 7,
   "metadata": {},
   "outputs": [
    {
     "name": "stdout",
     "output_type": "stream",
     "text": [
      "5\n",
      "13\n",
      "12586269025\n"
     ]
    }
   ],
   "source": [
    "# Reducing the T(n) for the above Recusrive code using Memoization\n",
    "\n",
    "def fibonacci(n, memo = {}):\n",
    "    # check the memo table\n",
    "    if(n in memo): return memo[n]\n",
    "    if(n <= 2): return 1\n",
    "    memo[n] = fibonacci(n-1) + fibonacci(n-2)\n",
    "    return memo[n]\n",
    "\n",
    "# Drive Code\n",
    "print(fibonacci(5))\n",
    "print(fibonacci(7))\n",
    "\n",
    "print(fibonacci(50))"
   ]
  },
  {
   "cell_type": "code",
   "execution_count": 1,
   "metadata": {},
   "outputs": [
    {
     "name": "stdout",
     "output_type": "stream",
     "text": [
      "3\n",
      "6\n"
     ]
    }
   ],
   "source": [
    "# GRID_TRAVELER_PROBLEM\n",
    "\n",
    "\n",
    "# Recursive Code\n",
    "def gridTraveller(m, n):\n",
    "    # Trivial Case\n",
    "    if(m == 0 or n == 0): return 0\n",
    "    # Base Case\n",
    "    if(m == 1 and n == 1): return 1\n",
    "    \n",
    "    return gridTraveller(m-1, n) + gridTraveller(m, n-1)\n",
    "\n",
    "# DRIVER CODE\n",
    "print(gridTraveller(2, 3))\n",
    "print(gridTraveller(3, 3))\n",
    "# print(gridTraveller(20, 20))"
   ]
  },
  {
   "cell_type": "code",
   "execution_count": 8,
   "metadata": {},
   "outputs": [
    {
     "name": "stdout",
     "output_type": "stream",
     "text": [
      "2\n",
      "6\n",
      "20\n",
      "70\n",
      "12870\n",
      "25477612258980856902730428600\n"
     ]
    }
   ],
   "source": [
    "# Memoized Version\n",
    "\n",
    "def gridTraveller(m, n, memo = {}):\n",
    "    # cehck if key is in the memo table\n",
    "    key = str(m) + \",\" + str(n)\n",
    "    if(key in memo): return memo[key]\n",
    "    \n",
    "    # Trivial Case\n",
    "    if(m == 0 or n == 0): return 0\n",
    "    # Base Case\n",
    "    if(m == 1 and n == 1): return 1\n",
    "    \n",
    "    # if((m-1) + ',' + n) is in memo[key]\n",
    "    \n",
    "    memo[key] = gridTraveller(m-1, n, memo) + gridTraveller(m, n-1, memo)\n",
    "    return memo[key]\n",
    "\n",
    "# DRIVER CODE\n",
    "print(gridTraveller(2, 2))\n",
    "print(gridTraveller(3, 3))\n",
    "print(gridTraveller(4, 4))\n",
    "print(gridTraveller(5, 5))\n",
    "print(gridTraveller(9, 9))\n",
    "print(gridTraveller(50, 50))"
   ]
  },
  {
   "cell_type": "code",
   "execution_count": 14,
   "metadata": {},
   "outputs": [
    {
     "name": "stdout",
     "output_type": "stream",
     "text": [
      "True\n",
      "True\n",
      "False\n",
      "True\n",
      "True\n",
      "False\n"
     ]
    }
   ],
   "source": [
    "# Brute Force Approach\n",
    "\n",
    "def canSum(targetSum, numbers):\n",
    "    if targetSum == 0: return True\n",
    "    if targetSum < 0: return False\n",
    "\n",
    "    for i in range(len(numbers)):\n",
    "        remain = targetSum - numbers[i]\n",
    "        if(canSum(remain, numbers) == True):\n",
    "            return True\n",
    "        \n",
    "    return False\n",
    "\n",
    "# Driver Code\n",
    "print(canSum(8, [2, 3, 5])) # True\n",
    "print(canSum(7, [2, 3])) # True\n",
    "print(canSum(7, [2, 4])) # False\n",
    "print(canSum(7, [3, 5, 4, 7])) # True\n",
    "print(canSum(9, [3, 34, 4, 12, 5, 2])) # True\n",
    "print(canSum(100, [7, 14])) # False\n",
    "\n",
    "# print(canSum(300, [7, 14])) # False"
   ]
  },
  {
   "cell_type": "code",
   "execution_count": 13,
   "metadata": {},
   "outputs": [
    {
     "name": "stdout",
     "output_type": "stream",
     "text": [
      "0\n",
      "0\n",
      "0\n",
      "0\n",
      "0\n",
      "0\n"
     ]
    }
   ],
   "source": [
    "# Memoized Approach\n",
    "\n",
    "def canSum(targetSum, numbers, memo = {}):\n",
    "    if(targetSum in memo): return memo[targetSum]\n",
    "    if targetSum == 0: return 0\n",
    "    if targetSum < 0: return -1\n",
    "\n",
    "    for i in range(len(numbers)):\n",
    "        remain = targetSum - numbers[i]\n",
    "        if(canSum(remain, numbers, memo) == 0):\n",
    "            memo[targetSum] = 0\n",
    "            return 0\n",
    "        \n",
    "    memo[targetSum] = -1    \n",
    "    return -1\n",
    "\n",
    "# Driver Code\n",
    "print(canSum(8, [2, 3, 5])) # True\n",
    "print(canSum(7, [2, 3])) # True\n",
    "print(canSum(7, [2, 4])) # False\n",
    "print(canSum(7, [3, 5, 4, 7])) # True\n",
    "print(canSum(100, [7, 14])) # False\n",
    "\n",
    "print(canSum(300, [7, 14])) # False"
   ]
  },
  {
   "cell_type": "code",
   "execution_count": 17,
   "metadata": {},
   "outputs": [
    {
     "name": "stdout",
     "output_type": "stream",
     "text": [
      "2\n",
      "8\n",
      "55\n",
      "354224848179261915075\n"
     ]
    }
   ],
   "source": [
    "# TABLULATION\n",
    "\n",
    "# 1. Fibonacci\n",
    "\n",
    "def fib(n):\n",
    "    table = [0] * (n+1)\n",
    "    table[1] = 1\n",
    "    \n",
    "    for i in range(2, n+1):\n",
    "        table[i] = table[i-1] + table[i-2]\n",
    "    return table[n]\n",
    "\n",
    "# DRIVER CODE\n",
    "print(fib(3))\n",
    "print(fib(6))\n",
    "print(fib(10))\n",
    "print(fib(100))"
   ]
  },
  {
   "cell_type": "code",
   "execution_count": 34,
   "metadata": {},
   "outputs": [
    {
     "name": "stdout",
     "output_type": "stream",
     "text": [
      "[0, 0, 0, 0, 0, 0]\n",
      "[0, 1, 1, 1, 1, 1]\n",
      "[0, 1, 2, 3, 4, 5]\n",
      "[0, 1, 3, 6, 10, 15]\n",
      "[0, 1, 4, 10, 20, 35]\n",
      "[0, 1, 5, 15, 35, 70]\n"
     ]
    }
   ],
   "source": [
    "# 2. Tabulate the gridTraveller\n",
    "\n",
    "def gridTraveller(m, n):\n",
    "    table = [[0 for i in range(m+1)] for j in range(n+1)]\n",
    "    table[1][1] = 1\n",
    "    \n",
    "    for i in range(m+1):\n",
    "        for j in range(n+1):\n",
    "            current = table[i][j]\n",
    "            # Right -> current + index\n",
    "            if (j+1 <= n) : table[i][j+1] = table[i][j+1] + current\n",
    "            # Down\n",
    "            if(i+1 <= m) : table[i+1][j] = table[i+1][j] + current\n",
    "    \n",
    "    for n in table:\n",
    "        print(n)\n",
    "    \n",
    "# DRIVER CODE\n",
    "gridTraveller(5, 5)"
   ]
  },
  {
   "cell_type": "code",
   "execution_count": null,
   "metadata": {},
   "outputs": [],
   "source": []
  }
 ],
 "metadata": {
  "kernelspec": {
   "display_name": "Python 3",
   "language": "python",
   "name": "python3"
  },
  "language_info": {
   "codemirror_mode": {
    "name": "ipython",
    "version": 3
   },
   "file_extension": ".py",
   "mimetype": "text/x-python",
   "name": "python",
   "nbconvert_exporter": "python",
   "pygments_lexer": "ipython3",
   "version": "3.8.5"
  }
 },
 "nbformat": 4,
 "nbformat_minor": 2
}
